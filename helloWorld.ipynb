{
 "cells": [
  {
   "cell_type": "code",
   "execution_count": 1,
   "id": "6b9893bb",
   "metadata": {},
   "outputs": [
    {
     "name": "stdout",
     "output_type": "stream",
     "text": [
      "helloWorld\n"
     ]
    }
   ],
   "source": [
    "print('helloWorld')\n",
    "\n",
    "import warnings\n",
    "import numpy as np\n",
    "import qcodes as qc\n",
    "import qcodes.instrument_drivers.stanford_research.SR830 as SR830\n",
    "from Agilent33220AP import Agilent33220A as agSig\n",
    "\n",
    "warnings.simplefilter(\"ignore\")\n",
    "\n",
    "from datetime import date, time, datetime\n",
    "def getDTS():\n",
    "    return((datetime.now()).strftime(\"%m-%d-%Y_%Hh%Mm%Ss\"))\n",
    "\n",
    "def filer(strIn):\n",
    "    return(strIn + \"__\" + getDTS())"
   ]
  },
  {
   "cell_type": "code",
   "execution_count": 2,
   "id": "527fc9f6",
   "metadata": {},
   "outputs": [],
   "source": [
    "station = qc.Station()"
   ]
  },
  {
   "cell_type": "code",
   "execution_count": 3,
   "id": "5b82c9fc",
   "metadata": {},
   "outputs": [
    {
     "name": "stdout",
     "output_type": "stream",
     "text": [
      "Connected to: Stanford_Research_Systems SR830 (serial:s/n49326, firmware:ver1.07) in 0.34s\n",
      "Connected to: Agilent Technologies 33220A (serial:MY44003337, firmware:2.00-2.00-22-2) in 0.07s\n"
     ]
    }
   ],
   "source": [
    "sr = SR830('lockin', 'GPIB0::8::INSTR')\n",
    "ag3322 = agSig('sigGen', 'GPIB0::4::INSTR')"
   ]
  },
  {
   "cell_type": "code",
   "execution_count": 4,
   "id": "5e8f6f32",
   "metadata": {},
   "outputs": [
    {
     "data": {
      "text/plain": [
       "'sigGen'"
      ]
     },
     "execution_count": 4,
     "metadata": {},
     "output_type": "execute_result"
    }
   ],
   "source": [
    "station.add_component(sr)\n",
    "station.add_component(ag3322)"
   ]
  },
  {
   "cell_type": "code",
   "execution_count": 5,
   "id": "8e28ca8c",
   "metadata": {},
   "outputs": [],
   "source": [
    "qc.initialise_or_create_database_at(\"~/\" + filer(\"test\") + \".db\")\n",
    "qc.config.core.db_location\n",
    "tutorial_exp = qc.load_or_create_experiment(experiment_name=\"test_lockin\", sample_name=\"nothing\")\n",
    "context_meas = qc.Measurement(exp=tutorial_exp, station=station, name='context_example')"
   ]
  },
  {
   "cell_type": "code",
   "execution_count": 6,
   "id": "a6d9e49f",
   "metadata": {},
   "outputs": [
    {
     "name": "stdout",
     "output_type": "stream",
     "text": [
      "TRIG\n"
     ]
    }
   ],
   "source": [
    "#print(ag3322.get('am_mode'))\n",
    "#ag3322.set('am_mode', 'ON')\n",
    "print(ag3322.get('burst_mode'))"
   ]
  },
  {
   "cell_type": "code",
   "execution_count": 7,
   "id": "c30545e5",
   "metadata": {},
   "outputs": [
    {
     "name": "stdout",
     "output_type": "stream",
     "text": [
      "SQU\n"
     ]
    }
   ],
   "source": [
    "print(ag3322.get('am_func'))"
   ]
  },
  {
   "cell_type": "code",
   "execution_count": null,
   "id": "72e49cee",
   "metadata": {},
   "outputs": [],
   "source": []
  }
 ],
 "metadata": {
  "kernelspec": {
   "display_name": "Python 3 (ipykernel)",
   "language": "python",
   "name": "python3"
  },
  "language_info": {
   "codemirror_mode": {
    "name": "ipython",
    "version": 3
   },
   "file_extension": ".py",
   "mimetype": "text/x-python",
   "name": "python",
   "nbconvert_exporter": "python",
   "pygments_lexer": "ipython3",
   "version": "3.9.13"
  }
 },
 "nbformat": 4,
 "nbformat_minor": 5
}
