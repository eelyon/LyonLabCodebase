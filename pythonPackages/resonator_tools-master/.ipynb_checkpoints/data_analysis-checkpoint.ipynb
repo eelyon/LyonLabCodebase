{
 "cells": [
  {
   "cell_type": "code",
   "execution_count": 1,
   "metadata": {},
   "outputs": [],
   "source": [
    "from resonator_tools import circuit\n",
    "\n",
    "%matplotlib widget\n",
    "\n",
    "import matplotlib.pyplot as plt\n",
    "import numpy as np\n",
    "import pandas as pd"
   ]
  },
  {
   "cell_type": "code",
   "execution_count": 2,
   "metadata": {},
   "outputs": [
    {
     "data": {
      "text/plain": [
       "dict_keys(['Amplitude, 10log(|S|^2) (dB)', 'Im(S)', 'Re(S)', 'Phase_unwrap', 'Frequency (Hz)', 'Phase', 'Amplitude squared, |S|^2'])"
      ]
     },
     "execution_count": 2,
     "metadata": {},
     "output_type": "execute_result"
    }
   ],
   "source": [
    "dict = np.load('./182652_superdict_vna_trace.npy', encoding='latin1',allow_pickle=True).item()\n",
    "dict.keys()"
   ]
  },
  {
   "cell_type": "code",
   "execution_count": 3,
   "metadata": {},
   "outputs": [],
   "source": [
    "freqs = np.array(dict['Frequency (Hz)'])\n",
    "fmin = 2.35e9\n",
    "fmax = 2.5e9\n",
    "nmin = np.argmin(np.abs(freqs - fmin))\n",
    "nmax = np.argmin(np.abs(freqs- fmax))\n",
    "freqs = freqs[nmin:nmax]\n",
    "freqs_GHz = freqs/1e9\n",
    "\n",
    "s11_dB = np.array(dict['Amplitude, 10log(|S|^2) (dB)'])\n",
    "s11_dB = s11_dB[nmin:nmax]\n",
    "s11_Re = np.array(dict['Re(S)'])\n",
    "s11_Re = s11_Re[nmin:nmax]\n",
    "s11_Im = np.array(dict['Im(S)'])\n",
    "s11_Im = s11_Im[nmin:nmax]\n",
    "\n",
    "s11 = s11_Re + s11_Im*1j # Complex form for s21\n",
    "#s11 = s11[nmin:nmax]"
   ]
  },
  {
   "cell_type": "code",
   "execution_count": 4,
   "metadata": {},
   "outputs": [
    {
     "data": {
      "text/plain": [
       "(2500,)"
      ]
     },
     "execution_count": 4,
     "metadata": {},
     "output_type": "execute_result"
    }
   ],
   "source": [
    "freqs.shape"
   ]
  },
  {
   "cell_type": "code",
   "execution_count": 5,
   "metadata": {},
   "outputs": [
    {
     "data": {
      "application/vnd.jupyter.widget-view+json": {
       "model_id": "516d4e7305cb42e59f0bc5af6f256069",
       "version_major": 2,
       "version_minor": 0
      },
      "text/plain": [
       "Canvas(toolbar=Toolbar(toolitems=[('Home', 'Reset original view', 'home', 'home'), ('Back', 'Back to previous …"
      ]
     },
     "metadata": {},
     "output_type": "display_data"
    }
   ],
   "source": [
    "plt.close('s11 data')\n",
    "plt.figure('s11 data')\n",
    "plt.plot(freqs_GHz, 20*np.log10(np.abs(s11)))\n",
    "plt.ylabel('|S11| (dB)')\n",
    "plt.xlabel('GHz')\n",
    "plt.title('$s_{11}$ measurement')\n",
    "plt.show()"
   ]
  },
  {
   "cell_type": "code",
   "execution_count": 6,
   "metadata": {},
   "outputs": [],
   "source": [
    "port1 = circuit.reflection_port()\n",
    "port1.add_data(freqs,s11)"
   ]
  },
  {
   "cell_type": "code",
   "execution_count": 7,
   "metadata": {},
   "outputs": [
    {
     "name": "stderr",
     "output_type": "stream",
     "text": [
      "/Users/andreabancora/opt/anaconda3/envs/science/lib/python3.8/site-packages/scipy/optimize/minpack.py:175: RuntimeWarning: The iteration is not making good progress, as measured by the \n",
      "  improvement from the last ten iterations.\n",
      "  warnings.warn(msg, RuntimeWarning)\n"
     ]
    }
   ],
   "source": [
    "port1.autofit()"
   ]
  },
  {
   "cell_type": "code",
   "execution_count": 8,
   "metadata": {},
   "outputs": [
    {
     "name": "stdout",
     "output_type": "stream",
     "text": [
      "Fit results: {'Qi': 853.1212402983662, 'Qc': 5741.351659844492, 'Ql': 742.7536852762724, 'fr': 2422225685.5872746, 'theta0': -0.0062297067822053185, 'Ql_err': 1.5293656462556793, 'Qc_err': 8.419110404656266, 'fr_err': 2386.39993083123, 'chi_square': 3.1594041932722284e-06, 'Qi_err': 1.9092205405613123}\n"
     ]
    },
    {
     "data": {
      "application/vnd.jupyter.widget-view+json": {
       "model_id": "0b7de9acc62d406faf24736243ab1c9f",
       "version_major": 2,
       "version_minor": 0
      },
      "text/plain": [
       "Canvas(toolbar=Toolbar(toolitems=[('Home', 'Reset original view', 'home', 'home'), ('Back', 'Back to previous …"
      ]
     },
     "metadata": {},
     "output_type": "display_data"
    }
   ],
   "source": [
    "print(\"Fit results:\", port1.fitresults)\n",
    "\n",
    "plt.close('fitting')\n",
    "plt.figure('fitting')\n",
    "\n",
    "port1.plotall()"
   ]
  },
  {
   "cell_type": "code",
   "execution_count": 9,
   "metadata": {
    "scrolled": true
   },
   "outputs": [
    {
     "data": {
      "text/html": [
       "<div>\n",
       "<style scoped>\n",
       "    .dataframe tbody tr th:only-of-type {\n",
       "        vertical-align: middle;\n",
       "    }\n",
       "\n",
       "    .dataframe tbody tr th {\n",
       "        vertical-align: top;\n",
       "    }\n",
       "\n",
       "    .dataframe thead th {\n",
       "        text-align: right;\n",
       "    }\n",
       "</style>\n",
       "<table border=\"1\" class=\"dataframe\">\n",
       "  <thead>\n",
       "    <tr style=\"text-align: right;\">\n",
       "      <th></th>\n",
       "      <th>Qi</th>\n",
       "      <th>Qc</th>\n",
       "      <th>Ql</th>\n",
       "      <th>fr</th>\n",
       "      <th>theta0</th>\n",
       "      <th>Ql_err</th>\n",
       "      <th>Qc_err</th>\n",
       "      <th>fr_err</th>\n",
       "      <th>chi_square</th>\n",
       "      <th>Qi_err</th>\n",
       "    </tr>\n",
       "  </thead>\n",
       "  <tbody>\n",
       "    <tr>\n",
       "      <th>0</th>\n",
       "      <td>8.53e+02</td>\n",
       "      <td>5.74e+03</td>\n",
       "      <td>7.43e+02</td>\n",
       "      <td>2.42e+09</td>\n",
       "      <td>-6.23e-03</td>\n",
       "      <td>1.53e+00</td>\n",
       "      <td>8.42e+00</td>\n",
       "      <td>2.39e+03</td>\n",
       "      <td>3.16e-06</td>\n",
       "      <td>1.91e+00</td>\n",
       "    </tr>\n",
       "  </tbody>\n",
       "</table>\n",
       "</div>"
      ],
      "text/plain": [
       "         Qi        Qc        Ql        fr     theta0    Ql_err    Qc_err  \\\n",
       "0  8.53e+02  5.74e+03  7.43e+02  2.42e+09  -6.23e-03  1.53e+00  8.42e+00   \n",
       "\n",
       "     fr_err chi_square    Qi_err  \n",
       "0  2.39e+03   3.16e-06  1.91e+00  "
      ]
     },
     "metadata": {},
     "output_type": "display_data"
    }
   ],
   "source": [
    "display(pd.DataFrame([port1.fitresults]).applymap(lambda x: \"{0:.2e}\".format(x)))"
   ]
  },
  {
   "cell_type": "code",
   "execution_count": null,
   "metadata": {},
   "outputs": [],
   "source": []
  }
 ],
 "metadata": {
  "kernelspec": {
   "display_name": "Python 3",
   "language": "python",
   "name": "python3"
  },
  "language_info": {
   "codemirror_mode": {
    "name": "ipython",
    "version": 3
   },
   "file_extension": ".py",
   "mimetype": "text/x-python",
   "name": "python",
   "nbconvert_exporter": "python",
   "pygments_lexer": "ipython3",
   "version": "3.8.5"
  }
 },
 "nbformat": 4,
 "nbformat_minor": 4
}
