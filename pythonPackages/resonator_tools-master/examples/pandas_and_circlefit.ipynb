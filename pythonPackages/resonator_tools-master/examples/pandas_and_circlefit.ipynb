{
 "metadata": {
  "name": "",
  "signature": "sha256:25d58d0ad878b5b3eb3c04f9ab73c1310b0ec623d81be671993f72be36d8a557"
 },
 "nbformat": 3,
 "nbformat_minor": 0,
 "worksheets": [
  {
   "cells": [
    {
     "cell_type": "heading",
     "level": 1,
     "metadata": {},
     "source": [
      "Fitting a resonator measured in reflection"
     ]
    },
    {
     "cell_type": "code",
     "collapsed": false,
     "input": [
      "from resonator_tools import circuit\n",
      "import numpy as np\n",
      "import pandas as pd\n",
      "from IPython.display import display\n",
      "%matplotlib inline"
     ],
     "language": "python",
     "metadata": {},
     "outputs": [],
     "prompt_number": 1
    },
    {
     "cell_type": "markdown",
     "metadata": {},
     "source": [
      "Although we could use the resonator tools to load data, here we want to use the Pandas library, which is used for statistical data analysis. It can handle many different file types including hdf5."
     ]
    },
    {
     "cell_type": "code",
     "collapsed": false,
     "input": [
      "df = pd.read_csv('S11.txt',sep='\\t')"
     ],
     "language": "python",
     "metadata": {},
     "outputs": [],
     "prompt_number": 2
    },
    {
     "cell_type": "markdown",
     "metadata": {},
     "source": [
      "Pandas has a very nice way of displaying the data. Let's look at the first few entries:"
     ]
    },
    {
     "cell_type": "code",
     "collapsed": false,
     "input": [
      "display(df.head())"
     ],
     "language": "python",
     "metadata": {},
     "outputs": [
      {
       "html": [
        "<div style=\"max-height:1000px;max-width:1500px;overflow:auto;\">\n",
        "<table border=\"1\" class=\"dataframe\">\n",
        "  <thead>\n",
        "    <tr style=\"text-align: right;\">\n",
        "      <th></th>\n",
        "      <th>freq</th>\n",
        "      <th>mag</th>\n",
        "      <th>phase</th>\n",
        "    </tr>\n",
        "  </thead>\n",
        "  <tbody>\n",
        "    <tr>\n",
        "      <th>0</th>\n",
        "      <td> 7.112886e+09</td>\n",
        "      <td>-29.041420</td>\n",
        "      <td> 40.656170</td>\n",
        "    </tr>\n",
        "    <tr>\n",
        "      <th>1</th>\n",
        "      <td> 7.112886e+09</td>\n",
        "      <td>-29.042747</td>\n",
        "      <td> 40.569664</td>\n",
        "    </tr>\n",
        "    <tr>\n",
        "      <th>2</th>\n",
        "      <td> 7.112887e+09</td>\n",
        "      <td>-29.045673</td>\n",
        "      <td> 40.464161</td>\n",
        "    </tr>\n",
        "    <tr>\n",
        "      <th>3</th>\n",
        "      <td> 7.112887e+09</td>\n",
        "      <td>-29.049311</td>\n",
        "      <td> 40.361294</td>\n",
        "    </tr>\n",
        "    <tr>\n",
        "      <th>4</th>\n",
        "      <td> 7.112887e+09</td>\n",
        "      <td>-29.051012</td>\n",
        "      <td> 40.265739</td>\n",
        "    </tr>\n",
        "  </tbody>\n",
        "</table>\n",
        "</div>"
       ],
       "metadata": {},
       "output_type": "display_data",
       "text": [
        "           freq        mag      phase\n",
        "0  7.112886e+09 -29.041420  40.656170\n",
        "1  7.112886e+09 -29.042747  40.569664\n",
        "2  7.112887e+09 -29.045673  40.464161\n",
        "3  7.112887e+09 -29.049311  40.361294\n",
        "4  7.112887e+09 -29.051012  40.265739"
       ]
      }
     ],
     "prompt_number": 3
    },
    {
     "cell_type": "markdown",
     "metadata": {},
     "source": [
      "Next, we define a reflection port measurement and add the data."
     ]
    },
    {
     "cell_type": "code",
     "collapsed": false,
     "input": [
      "port1 = circuit.reflection_port(f_data=df[\"freq\"].values,\n",
      "                                z_data_raw=10**(df[\"mag\"].values/20.)*np.exp(1j*df[\"phase\"].values/180.*np.pi))"
     ],
     "language": "python",
     "metadata": {},
     "outputs": [],
     "prompt_number": 4
    },
    {
     "cell_type": "markdown",
     "metadata": {},
     "source": [
      "Perform an automated fit."
     ]
    },
    {
     "cell_type": "code",
     "collapsed": false,
     "input": [
      "port1.autofit()"
     ],
     "language": "python",
     "metadata": {},
     "outputs": [],
     "prompt_number": 5
    },
    {
     "cell_type": "markdown",
     "metadata": {},
     "source": [
      "Let's plot the data and the fit!"
     ]
    },
    {
     "cell_type": "code",
     "collapsed": false,
     "input": [
      "port1.plotall()"
     ],
     "language": "python",
     "metadata": {},
     "outputs": [
      {
       "metadata": {},
       "output_type": "display_data",
       "png": "[encoded data removed]",
       "text": [
        "<matplotlib.figure.Figure at 0xf3ed350>"
       ]
      }
     ],
     "prompt_number": 6
    },
    {
     "cell_type": "markdown",
     "metadata": {},
     "source": [
      "Next, let us have a look at the fit results. Here, we convert the dictionary of results into a dataframe to display it in a nicer way."
     ]
    },
    {
     "cell_type": "code",
     "collapsed": false,
     "input": [
      "display(pd.DataFrame([port1.fitresults]).applymap(lambda x: \"{0:.2e}\".format(x)))"
     ],
     "language": "python",
     "metadata": {},
     "outputs": [
      {
       "html": [
        "<div style=\"max-height:1000px;max-width:1500px;overflow:auto;\">\n",
        "<table border=\"1\" class=\"dataframe\">\n",
        "  <thead>\n",
        "    <tr style=\"text-align: right;\">\n",
        "      <th></th>\n",
        "      <th>Qc</th>\n",
        "      <th>Qc_err</th>\n",
        "      <th>Qi</th>\n",
        "      <th>Qi_err</th>\n",
        "      <th>Ql</th>\n",
        "      <th>Ql_err</th>\n",
        "      <th>chi_square</th>\n",
        "      <th>fr</th>\n",
        "      <th>fr_err</th>\n",
        "      <th>theta0</th>\n",
        "    </tr>\n",
        "  </thead>\n",
        "  <tbody>\n",
        "    <tr>\n",
        "      <th>0</th>\n",
        "      <td> 3.48e+05</td>\n",
        "      <td> 2.46e+02</td>\n",
        "      <td> 9.30e+05</td>\n",
        "      <td> 1.74e+03</td>\n",
        "      <td> 2.53e+05</td>\n",
        "      <td> 1.96e+02</td>\n",
        "      <td> 2.87e-05</td>\n",
        "      <td> 7.11e+09</td>\n",
        "      <td> 7.19e+00</td>\n",
        "      <td> -4.18e-03</td>\n",
        "    </tr>\n",
        "  </tbody>\n",
        "</table>\n",
        "</div>"
       ],
       "metadata": {},
       "output_type": "display_data",
       "text": [
        "         Qc    Qc_err        Qi    Qi_err        Ql    Ql_err chi_square  \\\n",
        "0  3.48e+05  2.46e+02  9.30e+05  1.74e+03  2.53e+05  1.96e+02   2.87e-05   \n",
        "\n",
        "         fr    fr_err     theta0  \n",
        "0  7.11e+09  7.19e+00  -4.18e-03  "
       ]
      }
     ],
     "prompt_number": 7
    },
    {
     "cell_type": "markdown",
     "metadata": {},
     "source": [
      "Finally, we can calculate the single photon limit, i.e., the input power necessary to maintain one photon on average in the resonator:"
     ]
    },
    {
     "cell_type": "code",
     "collapsed": false,
     "input": [
      "print 'Single photon limit: %.2f dBm' % port1.get_single_photon_limit()"
     ],
     "language": "python",
     "metadata": {},
     "outputs": [
      {
       "output_type": "stream",
       "stream": "stdout",
       "text": [
        "Single photon limit: -163.42 dBm\n"
       ]
      }
     ],
     "prompt_number": 8
    },
    {
     "cell_type": "markdown",
     "metadata": {},
     "source": [
      "Or, we can compute the photons in the resonator for a given power:"
     ]
    },
    {
     "cell_type": "code",
     "collapsed": false,
     "input": [
      "print 'At -100dBm, we have %.2e photons in the resonator' % port1.get_photons_in_resonator(-100)"
     ],
     "language": "python",
     "metadata": {},
     "outputs": [
      {
       "output_type": "stream",
       "stream": "stdout",
       "text": [
        "At -100dBm, we have 2.20e+06 photons in the resonator\n"
       ]
      }
     ],
     "prompt_number": 9
    }
   ],
   "metadata": {}
  }
 ]
}